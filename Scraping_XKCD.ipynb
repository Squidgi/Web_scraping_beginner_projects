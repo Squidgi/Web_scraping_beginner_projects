{
  "nbformat": 4,
  "nbformat_minor": 0,
  "metadata": {
    "colab": {
      "provenance": [],
      "mount_file_id": "1GsiAaPVAopCXTMH6doHEphuwGU9nqviz",
      "authorship_tag": "ABX9TyPI7ti0L3yAU09vC4Xgz6tx",
      "include_colab_link": true
    },
    "kernelspec": {
      "name": "python3",
      "display_name": "Python 3"
    },
    "language_info": {
      "name": "python"
    }
  },
  "cells": [
    {
      "cell_type": "markdown",
      "metadata": {
        "id": "view-in-github",
        "colab_type": "text"
      },
      "source": [
        "<a href=\"https://colab.research.google.com/github/Squidgi/Web_scraping_beginner_projects/blob/Scraping_XKCD/Scraping_XKCD.ipynb\" target=\"_parent\"><img src=\"https://colab.research.google.com/assets/colab-badge.svg\" alt=\"Open In Colab\"/></a>"
      ]
    },
    {
      "cell_type": "markdown",
      "source": [
        "# Learning BeautifulSoup and Webscraping \n",
        "(I'm a n00b)"
      ],
      "metadata": {
        "id": "7Kgih_7VA_Hf"
      }
    },
    {
      "cell_type": "markdown",
      "source": [
        "***DO NOT `RUN ALL` CELLS***"
      ],
      "metadata": {
        "id": "EeB0q55aap2_"
      }
    },
    {
      "cell_type": "markdown",
      "source": [
        "## Project: Downloading all XKCD Comics\n",
        "Inspired by: \n",
        "\n",
        "Automate the Boring Stuff with Python -\n",
        "Practical programming for total beginners\n",
        "by Al Sweigart\n",
        "\n",
        "\n",
        "-> Adjusted for Google Colab/Google drive "
      ],
      "metadata": {
        "id": "KdtE30orCChz"
      }
    },
    {
      "cell_type": "code",
      "source": [
        "# mount Google Drive\n",
        "from google.colab import drive\n",
        "drive.mount('/content/drive')"
      ],
      "metadata": {
        "colab": {
          "base_uri": "https://localhost:8080/"
        },
        "id": "EL3NkIzoezDe",
        "outputId": "94a6ca3e-c066-456e-9355-11236f83ccf9"
      },
      "execution_count": 1,
      "outputs": [
        {
          "output_type": "stream",
          "name": "stdout",
          "text": [
            "Drive already mounted at /content/drive; to attempt to forcibly remount, call drive.mount(\"/content/drive\", force_remount=True).\n"
          ]
        }
      ]
    },
    {
      "cell_type": "code",
      "source": [
        "import requests\n",
        "from bs4 import BeautifulSoup as bs\n",
        "import os\n",
        "from pathlib import Path"
      ],
      "metadata": {
        "id": "7CKEpSZMey7r"
      },
      "execution_count": null,
      "outputs": []
    },
    {
      "cell_type": "code",
      "source": [
        "# Soup\n",
        "url = 'https://XKCD.com/1537'\n",
        "\n",
        "# IMG Path\n",
        "PATH = Path(\"/content/drive/MyDrive/XKCD_images/\")"
      ],
      "metadata": {
        "id": "HsCNWoRTey5B"
      },
      "execution_count": null,
      "outputs": []
    },
    {
      "cell_type": "code",
      "source": [
        "while not url.endswith('#'):\n",
        "  # set soupy\n",
        "  r = requests.get(url)\n",
        "  soup = bs(r.content)\n",
        "  # find img\n",
        "  img_element = soup.select(\"#middleContainer a\")[-1]['href']\n",
        "  noodles = requests.get(img_element).content\n",
        "\n",
        "  img_name = os.path.basename(img_element)\n",
        "  with open(os.path.join(PATH, img_name), 'wb') as handler:\n",
        "    handler.write(noodles)\n",
        "\n",
        "  print(f\"Downloading image: {img_element}\")\n",
        "\n",
        "  # find prev page\n",
        "  prev_link = soup.select('a[rel=\"prev\"]')[0]\n",
        "  prev_link = prev_link['href'] \n",
        "  url = \"https://xkcd.com\"+prev_link\n",
        "\n",
        "  print(f\"Accessing page: {url}\")\n"
      ],
      "metadata": {
        "id": "LkIUdH5eey2D"
      },
      "execution_count": null,
      "outputs": []
    },
    {
      "cell_type": "markdown",
      "source": [
        "#### troubleshooting:"
      ],
      "metadata": {
        "id": "PJcc7emXe9vc"
      }
    },
    {
      "cell_type": "code",
      "source": [
        "print(PATH)\n",
        "print(url)"
      ],
      "metadata": {
        "id": "gIxGXfOaeyzV"
      },
      "execution_count": null,
      "outputs": []
    },
    {
      "cell_type": "code",
      "source": [
        "print(img_element)\n",
        "print(noodles)"
      ],
      "metadata": {
        "id": "-971FiWOeyun"
      },
      "execution_count": null,
      "outputs": []
    },
    {
      "cell_type": "code",
      "source": [
        "egg = soup.select('#comic img')\n",
        "print(egg)"
      ],
      "metadata": {
        "colab": {
          "base_uri": "https://localhost:8080/"
        },
        "id": "IYJbIG5meymw",
        "outputId": "deb96754-2472-4455-d485-5e9db040aff8"
      },
      "execution_count": null,
      "outputs": [
        {
          "output_type": "stream",
          "name": "stdout",
          "text": [
            "[]\n"
          ]
        }
      ]
    },
    {
      "cell_type": "code",
      "source": [
        "url = "
      ],
      "metadata": {
        "id": "xpyRPJ-DfTwP"
      },
      "execution_count": null,
      "outputs": []
    },
    
    {
      "cell_type": "markdown",
      "source": [
        "Notes:\n",
        "\n",
        "About 3/4 of the way through, I realised the addition of something like: \n",
        "\n",
        "`if img_element == []:`\n",
        "\n",
        "`print(\"No downloadable image found on {url}.\")` \n",
        "\n",
        "(like what's in the project in \"Automate the Boring Stuff\")\n",
        "\n",
        "would have been helpful to both prevent me from having to manually set the next page and restart the code whenever it ran into an error and to keep track of the images that were skipped. Ofc by the time I realised this, it didn't happen again.\n",
        "\n",
        "Otherwise, I am vvvv excited to have been able to do this and to be moving on to the next project using what I learned ^-^ :) (: :) :) "
      ],
      "metadata": {
        "id": "F5aSbv-VpQQ9"
      }
    },
    {
      "cell_type": "code",
      "source": [],
      "metadata": {
        "id": "Cb1LVCIDqIzC"
      },
      "execution_count": null,
      "outputs": []
    }
  ]
}
