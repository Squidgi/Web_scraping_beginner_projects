{
  "nbformat": 4,
  "nbformat_minor": 0,
  "metadata": {
    "colab": {
      "provenance": [],
      "mount_file_id": "1GsiAaPVAopCXTMH6doHEphuwGU9nqviz",
      "authorship_tag": "ABX9TyOc5GP1OJXJlr7VL0quGoR9"
    },
    "kernelspec": {
      "name": "python3",
      "display_name": "Python 3"
    },
    "language_info": {
      "name": "python"
    }
  },
  "cells": [
    {
      "cell_type": "markdown",
      "source": [
        "# Learning BeautifulSoup and Webscraping \n",
        " With help from *Automate the Boring Stuff with Python - Practical programming for total beginners* by Al Sweigart"
      ],
      "metadata": {
        "id": "7Kgih_7VA_Hf"
      }
    },
    {
      "cell_type": "markdown",
      "source": [
        "***DO NOT `RUN ALL` CELLS***"
      ],
      "metadata": {
        "id": "EeB0q55aap2_"
      }
    },
    {
      "cell_type": "markdown",
      "source": [
        "## Project: Downloading all XKCD Comics\n",
        "Project found in: \n",
        "\n",
        "Automate the Boring Stuff with Python -\n",
        "Practical programming for total beginners\n",
        "by Al Sweigart\n",
        "\n",
        "\n",
        "-> Adjusted to upload directly to a Google drive "
      ],
      "metadata": {
        "id": "KdtE30orCChz"
      }
    },
    {
      "cell_type": "code",
      "source": [
        "# mount Google Drive\n",
        "from google.colab import drive\n",
        "drive.mount('/content/drive')"
      ],
      "metadata": {
        "colab": {
          "base_uri": "https://localhost:8080/"
        },
        "id": "EL3NkIzoezDe",
        "outputId": "94a6ca3e-c066-456e-9355-11236f83ccf9"
      },
      "execution_count": null,
      "outputs": [
        {
          "output_type": "stream",
          "name": "stdout",
          "text": [
            "Drive already mounted at /content/drive; to attempt to forcibly remount, call drive.mount(\"/content/drive\", force_remount=True).\n"
          ]
        }
      ]
    },
    {
      "cell_type": "code",
      "source": [
        "import requests\n",
        "from bs4 import BeautifulSoup as bs\n",
        "import os\n",
        "from pathlib import Path"
      ],
      "metadata": {
        "id": "7CKEpSZMey7r"
      },
      "execution_count": null,
      "outputs": []
    },
    {
      "cell_type": "code",
      "source": [
        "# Soup\n",
        "url = 'https://XKCD.com/1537'\n",
        "\n",
        "# IMG Path\n",
        "PATH = Path(\"/content/drive/MyDrive/XKCD_images/\")"
      ],
      "metadata": {
        "id": "HsCNWoRTey5B"
      },
      "execution_count": null,
      "outputs": []
    },
    {
      "cell_type": "code",
      "source": [
        "while not url.endswith('#'):\n",
        "  # set soupy\n",
        "  r = requests.get(url)\n",
        "  soup = bs(r.content)\n",
        "  # find img\n",
        "  img_element = soup.select(\"#middleContainer a\")[-1]['href']\n",
        "  noodles = requests.get(img_element).content\n",
        "\n",
        "  img_name = os.path.basename(img_element)\n",
        "  with open(os.path.join(PATH, img_name), 'wb') as handler:\n",
        "    handler.write(noodles)\n",
        "\n",
        "  print(f\"Downloading image: {img_element}\")\n",
        "\n",
        "  # find prev page\n",
        "  prev_link = soup.select('a[rel=\"prev\"]')[0]\n",
        "  prev_link = prev_link['href'] \n",
        "  url = \"https://xkcd.com\"+prev_link\n",
        "\n",
        "  print(f\"Accessing page: {url}\")\n"
      ],
      "metadata": {
        "id": "LkIUdH5eey2D"
      },
      "execution_count": null,
      "outputs": []
    },
    {
      "cell_type": "markdown",
      "source": [
        "#### troubleshooting:"
      ],
      "metadata": {
        "id": "PJcc7emXe9vc"
      }
    },
    {
      "cell_type": "code",
      "source": [
        "print(PATH)\n",
        "print(url)"
      ],
      "metadata": {
        "id": "gIxGXfOaeyzV"
      },
      "execution_count": null,
      "outputs": []
    },
    {
      "cell_type": "code",
      "source": [
        "print(img_element)\n",
        "print(noodles)"
      ],
      "metadata": {
        "id": "-971FiWOeyun"
      },
      "execution_count": null,
      "outputs": []
    },
    {
      "cell_type": "code",
      "source": [
        "egg = soup.select('#comic img')\n",
        "print(egg)"
      ],
      "metadata": {
        "colab": {
          "base_uri": "https://localhost:8080/"
        },
        "id": "IYJbIG5meymw",
        "outputId": "deb96754-2472-4455-d485-5e9db040aff8"
      },
      "execution_count": null,
      "outputs": [
        {
          "output_type": "stream",
          "name": "stdout",
          "text": [
            "[]\n"
          ]
        }
      ]
    },
    {
      "cell_type": "code",
      "source": [
        "url = "
      ],
      "metadata": {
        "id": "xpyRPJ-DfTwP"
      },
      "execution_count": null,
      "outputs": []
    },
    {
      "cell_type": "markdown",
      "source": [
        "#### spare code: (Do not run any cells past this point!)"
      ],
      "metadata": {
        "id": "KuP-AyPjezYS"
      }
    },
    {
      "cell_type": "code",
      "source": [
        "# URL\n",
        "url = 'https://xkcd.com'\n",
        "\n",
        "# Directory and filepath\n",
        "PATH = Path(\"/content/drive/MyDrive/XKCD_images/\")\n",
        "PATH"
      ],
      "metadata": {
        "id": "CjA1eX1IEgo0",
        "colab": {
          "base_uri": "https://localhost:8080/"
        },
        "outputId": "94937bbc-d521-4fa9-af0b-ba43758eddc8"
      },
      "execution_count": null,
      "outputs": [
        {
          "output_type": "execute_result",
          "data": {
            "text/plain": [
              "PosixPath('/content/drive/MyDrive/XKCD_images')"
            ]
          },
          "metadata": {},
          "execution_count": 3
        }
      ]
    },
    {
      "cell_type": "code",
      "source": [
        "# Load the soup\n",
        "r = requests.get(url)\n",
        "soup = bs(r.content)"
      ],
      "metadata": {
        "id": "6QUAVJMPJdDj"
      },
      "execution_count": null,
      "outputs": []
    },
    {
      "cell_type": "code",
      "source": [
        "comic_element = soup.select('#comic img')\n",
        "comicURL = comic_element[0].get('src')\n",
        "print(comicURL)"
      ],
      "metadata": {
        "colab": {
          "base_uri": "https://localhost:8080/"
        },
        "id": "5RVR4obcIx3_",
        "outputId": "40daefc7-a756-48e4-eafb-496b06bbda69"
      },
      "execution_count": null,
      "outputs": [
        {
          "output_type": "stream",
          "name": "stdout",
          "text": [
            "//imgs.xkcd.com/comics/encryption.png\n"
          ]
        }
      ]
    },
    {
      "cell_type": "code",
      "source": [
        "  \n",
        "while not url.endswith('#'):\n",
        "  #Download the page\n",
        "  print('Downloading page %s...' % url)\n",
        "  res = requests.get(url)\n",
        "  res.raise_for_status()\n",
        "  \n",
        "  # Find the images\n",
        "  comic_element = soup.select('#comic img')\n",
        "  if comic_element ==[]:\n",
        "    print(\"Could not find comic image :(\")\n",
        "  else:\n",
        "    comicURL = 'https:'+comic_element[0].get('src')\n",
        "    print(\"Downloading image %s...\" % (comicURL)) #Download comic\n",
        "    res = requests.get(comicURL)\n",
        "    res.raise_for_status()\n",
        "\n",
        "    # Save the image to XKCD_images folder\n",
        "    img_name = os.path.basename(comicURL)\n",
        "    imageFile = open(os.path.join(PATH, img_name), 'wb')\n",
        "    for chunk in res.iter_content(100000):\n",
        "      imageFile.write(chunk)\n",
        "    imageFile.close()\n",
        "# Get the Prev button URL\n",
        "    prevLink = soup.select('a[rel=\"prev\"]')[0]\n",
        "    url = 'http://xkcd.com' + prevLink.get('href')\n",
        "\n",
        "  print('Done.')\n",
        "\n",
        "\n"
      ],
      "metadata": {
        "id": "rzQDIDpPKdBH"
      },
      "execution_count": null,
      "outputs": []
    },
    {
      "cell_type": "code",
      "source": [
        "print(url)"
      ],
      "metadata": {
        "id": "oti6CEi8J2vc"
      },
      "execution_count": null,
      "outputs": []
    },
    {
      "cell_type": "code",
      "source": [
        "# Get the Prev button URL\n",
        "prevLink = soup.select('a[rel=\"prev\"]')[0]\n",
        "url = 'http://xkcd.com' + prevLink.get('href')\n",
        "print(url)\n"
      ],
      "metadata": {
        "id": "jWEmySvRy2NA"
      },
      "execution_count": null,
      "outputs": []
    },
    {
      "cell_type": "code",
      "source": [
        "# Another way to get images - no iter_content chunking\n",
        "\n",
        "#img_data = requests.get(comicURL).content\n",
        "#with open(os.path.join(PATH, img_name), 'wb') as handler:\n",
        "#    handler.write(img_data)\n",
        "\n"
      ],
      "metadata": {
        "id": "Z7IU6qvmBXFh"
      },
      "execution_count": null,
      "outputs": []
    },
    {
      "cell_type": "code",
      "source": [
        "if url.endswith('#'):\n",
        "  break\n",
        "else:\n",
        "  "
      ],
      "metadata": {
        "id": "BO3VSFAjl4CP"
      },
      "execution_count": null,
      "outputs": []
    },
    {
      "cell_type": "code",
      "source": [
        "prevLink = soup.select('a[rel=\"prev\"]')[0]\n",
        "url = 'http://xkcd.com' + prevLink.get('href')\n",
        "print(prevLink)"
      ],
      "metadata": {
        "id": "osoPmMNfl377"
      },
      "execution_count": null,
      "outputs": []
    },
    {
      "cell_type": "code",
      "source": [
        "prev_link = soup.select('a[rel=\"prev\"]')[0]\n",
        "prev_link = prev_link['href']\n",
        "print(prev_link)"
      ],
      "metadata": {
        "id": "0iuFxyCOl31M"
      },
      "execution_count": null,
      "outputs": []
    },
    {
      "cell_type": "code",
      "source": [],
      "metadata": {
        "id": "kzqwj0Jpl3tN"
      },
      "execution_count": null,
      "outputs": []
    },
    {
      "cell_type": "code",
      "source": [
        "# set URL\n",
        "url = 'https://xkcd.com'\n",
        "\n",
        "# set filepath\n",
        "PATH = Path(\"/content/drive/MyDrive/XKCD_images/\")\n",
        "\n",
        "# Load the soup\n",
        "r = requests.get(url)\n",
        "soup = bs(r.content)"
      ],
      "metadata": {
        "id": "GyoYQm-JNhTM"
      },
      "execution_count": null,
      "outputs": []
    },
    {
      "cell_type": "code",
      "source": [
        "# locate comic img\n",
        "img_href = soup.select(\"#middleContainer a\")[-1]['href']\n",
        "print(img_href)"
      ],
      "metadata": {
        "colab": {
          "base_uri": "https://localhost:8080/"
        },
        "id": "Llq2MVVLb9EX",
        "outputId": "bf042c85-5736-4840-8fa2-17c1fd27d8a7"
      },
      "execution_count": null,
      "outputs": [
        {
          "output_type": "stream",
          "name": "stdout",
          "text": [
            "https://imgs.xkcd.com/comics/encryption.png\n"
          ]
        }
      ]
    },
    {
      "cell_type": "code",
      "source": [
        "# download the img\n",
        "imgs = requests.get(img_href).content\n",
        "with open(os.path.join(PATH, os.path.basename(img_href)), 'wb') as handler:\n",
        "  handler.write(imgs)"
      ],
      "metadata": {
        "id": "PO7lB_hIf90y"
      },
      "execution_count": null,
      "outputs": []
    },
    {
      "cell_type": "code",
      "source": [
        "def get_prev_page(soup):\n",
        "  while True:\n",
        "    prevLink = soup.select('a[rel=\"prev\"]')[0]\n",
        "    url = 'http://xkcd.com' + prevLink.get('href')\n",
        "    print(f\"Downloading {url}\")\n",
        "  else:\n",
        "    return\n",
        "\n",
        "get_prev_page(soup)"
      ],
      "metadata": {
        "id": "xsWEXrMljWhf"
      },
      "execution_count": null,
      "outputs": []
    },
    {
      "cell_type": "code",
      "source": [
        "prev_pages = [url+prev_page for prev_page in prev_pages]\n",
        "\n",
        "prev_page = [soup.select(\"#middleContainer a\")[-1]['href']]"
      ],
      "metadata": {
        "id": "B2TZUIbv0nMO"
      },
      "execution_count": null,
      "outputs": []
    },
    {
      "cell_type": "code",
      "source": [
        "# locate comic img\n",
        "img_href = soup.select(\"#middleContainer a\")[-1]['href']\n",
        "print(img_href)"
      ],
      "metadata": {
        "id": "fvR9nRov1Gvk"
      },
      "execution_count": null,
      "outputs": []
    },
    {
      "cell_type": "code",
      "source": [],
      "metadata": {
        "id": "Cb1LVCIDqIzC"
      },
      "execution_count": null,
      "outputs": []
    }
  ]
}